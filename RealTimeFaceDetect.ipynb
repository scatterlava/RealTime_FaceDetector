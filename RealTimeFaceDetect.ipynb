{
  "cells": [
    {
      "cell_type": "code",
      "execution_count": null,
      "metadata": {},
      "outputs": [],
      "source": [
        "!pip install facenet-pytorch"
      ]
    },
    {
      "cell_type": "code",
      "execution_count": 16,
      "metadata": {
        "id": "ekJccdhV0sVw"
      },
      "outputs": [],
      "source": [
        "import cv2\n",
        "import matplotlib.pyplot as plt"
      ]
    },
    {
      "cell_type": "code",
      "execution_count": 36,
      "metadata": {},
      "outputs": [],
      "source": [
        "class RealTimeFaceDetector:\n",
        "   def __init__(self):\n",
        "      # Open the video capture object for the default camera (index 0)\n",
        "      self.video_capture = cv2.VideoCapture(0)\n",
        "\n",
        "      if not self.video_capture.isOpened():\n",
        "         raise ValueError(\"Error opening video capture. Make sure your camera is connected.\")\n",
        "\n",
        "      # Instantiate the face detector object\n",
        "      self.fd = cv2.CascadeClassifier(cv2.data.haarcascades + \"haarcascade_frontalface_default.xml\")\n",
        "\n",
        "   def detect_faces_realtime(self, scaleFactor, minNeighbors, minSize):\n",
        "      while True:\n",
        "         # Read a frame from the camera\n",
        "         ret, frame = self.video_capture.read()\n",
        "\n",
        "         if not ret:\n",
        "               print(\"Error reading frame. Exiting.\")\n",
        "               break\n",
        "\n",
        "         # Convert the frame to grayscale for face detection\n",
        "         frame_gray = cv2.cvtColor(frame, cv2.COLOR_BGR2GRAY)\n",
        "\n",
        "         # Perform face detection\n",
        "         faces = self.fd.detectMultiScale(\n",
        "               frame_gray,\n",
        "               scaleFactor=scaleFactor,\n",
        "               minNeighbors=minNeighbors,\n",
        "               minSize=minSize\n",
        "         )\n",
        "\n",
        "         # Draw rectangles around the detected faces\n",
        "         for (x, y, w, h) in faces:\n",
        "               cv2.rectangle(frame, (x, y), (x + w, y + h), (127, 255, 0), 3)\n",
        "\n",
        "         # Display the frame\n",
        "         cv2.imshow(\"Real-Time Face Detection\", frame)\n",
        "\n",
        "         # Exit the loop if 'q' key is pressed\n",
        "         if cv2.waitKey(1) & 0xFF == ord('q'):\n",
        "               break\n",
        "\n",
        "      # Release the video capture object and close all windows\n",
        "      self.video_capture.release()\n",
        "      cv2.destroyAllWindows()"
      ]
    },
    {
      "cell_type": "code",
      "execution_count": null,
      "metadata": {},
      "outputs": [],
      "source": [
        "real_time_face_detector = RealTimeFaceDetector()\n",
        "\n",
        "# Using the real-time face detection method\n",
        "real_time_face_detector.detect_faces_realtime(scaleFactor=1.1, minNeighbors=5, minSize=(40, 40))"
      ]
    }
  ],
  "metadata": {
    "colab": {
      "provenance": []
    },
    "kernelspec": {
      "display_name": "Python 3",
      "name": "python3"
    },
    "language_info": {
      "codemirror_mode": {
        "name": "ipython",
        "version": 3
      },
      "file_extension": ".py",
      "mimetype": "text/x-python",
      "name": "python",
      "nbconvert_exporter": "python",
      "pygments_lexer": "ipython3",
      "version": "3.11.6"
    }
  },
  "nbformat": 4,
  "nbformat_minor": 0
}
